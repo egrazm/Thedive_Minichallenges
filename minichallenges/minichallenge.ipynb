{
 "cells": [
  {
   "cell_type": "markdown",
   "id": "4379a302",
   "metadata": {},
   "source": [
    "Escribe un programa que invierta una cadena de caracteres dada por el\n",
    "usuario.\n"
   ]
  },
  {
   "cell_type": "code",
   "execution_count": 1,
   "id": "0c9a5796",
   "metadata": {},
   "outputs": [
    {
     "name": "stdout",
     "output_type": "stream",
     "text": [
      "wwwwwfakfsfdkgfds\n"
     ]
    }
   ],
   "source": [
    "texto=input(\"Ingrese un texto\")\n",
    "\n",
    "cadena_invertida= texto[::-1]\n",
    "\n",
    "print(cadena_invertida)"
   ]
  },
  {
   "cell_type": "markdown",
   "id": "d37abf87",
   "metadata": {},
   "source": [
    "Escribe un programa que muestre la tabla de multiplicar de un número\n",
    "dado por el usuario.\n"
   ]
  },
  {
   "cell_type": "code",
   "execution_count": 3,
   "id": "4fdd13ab",
   "metadata": {},
   "outputs": [
    {
     "name": "stdout",
     "output_type": "stream",
     "text": [
      "5 x 1 = 5\n",
      "5 x 2 = 10\n",
      "5 x 3 = 15\n",
      "5 x 4 = 20\n",
      "5 x 5 = 25\n",
      "5 x 6 = 30\n",
      "5 x 7 = 35\n",
      "5 x 8 = 40\n",
      "5 x 9 = 45\n",
      "5 x 10 = 50\n"
     ]
    }
   ],
   "source": [
    "num=int(input(\"Ingrese un umero a multiplicar \"))\n",
    "\n",
    "for i in range (1,11):\n",
    "    print(f\"{num} x {i} = {num * i}\")\n",
    "    "
   ]
  },
  {
   "cell_type": "markdown",
   "id": "204a9273",
   "metadata": {},
   "source": [
    "Escribe un programa que cuente el número de vocales en una cadena\n",
    "dada"
   ]
  },
  {
   "cell_type": "code",
   "execution_count": 6,
   "id": "8cd78741",
   "metadata": {},
   "outputs": [
    {
     "name": "stdout",
     "output_type": "stream",
     "text": [
      "La cantidad de vocales en el texto es de 3\n"
     ]
    }
   ],
   "source": [
    "vocales='aiueoAIUEO'\n",
    "texto=input(\"Ingrese un texto\")\n",
    "contador=0\n",
    "for letra in texto:\n",
    "    if letra in vocales:\n",
    "        contador+=1\n",
    "\n",
    "print(f\"La cantidad de vocales en el texto es de {contador}\")"
   ]
  },
  {
   "cell_type": "markdown",
   "id": "7ba31dc0",
   "metadata": {},
   "source": [
    "Escribe un programa que ordene una lista de números dada por el usuario\n",
    "en orden ascendente.\n"
   ]
  },
  {
   "cell_type": "code",
   "execution_count": null,
   "id": "c27068b8",
   "metadata": {},
   "outputs": [
    {
     "name": "stdout",
     "output_type": "stream",
     "text": [
      "anhade 5 numeros a la lista\n",
      "[2, 3, 3, 5, 5]\n"
     ]
    }
   ],
   "source": [
    "lista=[]\n",
    "\n",
    "contador=0\n",
    "maximo=5\n",
    "print(f'anhade {maximo} numeros a la lista')\n",
    "\n",
    "while contador<maximo:\n",
    "    numeros=int(input(\"Ingresa un numero\"))\n",
    "    lista.append(numeros)\n",
    "    contador+=1\n",
    "lista.sort()\n",
    "\n",
    "print(lista)\n"
   ]
  },
  {
   "cell_type": "markdown",
   "id": "5dfd36b3",
   "metadata": {},
   "source": [
    "Escribe un programa que cree un diccionario a partir de dos listas dadas:\n",
    "una de claves y otra de valores.\n"
   ]
  },
  {
   "cell_type": "code",
   "execution_count": 10,
   "id": "d30a00d9",
   "metadata": {},
   "outputs": [
    {
     "name": "stdout",
     "output_type": "stream",
     "text": [
      "Diccionario creado:\n",
      "{'nombre': 'Ana', 'edad': 28, 'ciudad': 'Madrid'}\n"
     ]
    }
   ],
   "source": [
    "# Listas de ejemplo\n",
    "claves = ['nombre', 'edad', 'ciudad']\n",
    "valores = ['Ana', 28, 'Madrid']\n",
    "\n",
    "# Crear el diccionario usando zip y dict\n",
    "diccionario = dict(zip(claves, valores))\n",
    "\n",
    "# Mostrar el resultado\n",
    "print(\"Diccionario creado:\")\n",
    "print(diccionario)\n"
   ]
  },
  {
   "cell_type": "markdown",
   "id": "214be748",
   "metadata": {},
   "source": [
    "Escribe un programa que convierta una temperatura dada en grados\n",
    "Celsius a grados Fahrenheit.\n"
   ]
  },
  {
   "cell_type": "code",
   "execution_count": 2,
   "id": "083bcdca",
   "metadata": {},
   "outputs": [
    {
     "name": "stdout",
     "output_type": "stream",
     "text": [
      "3294.5 °C equivale a 5962.1 °F\n"
     ]
    }
   ],
   "source": [
    "cel=float(input(\"Introduce la temperatuda en celcius para convertir a farenheit: \"))\n",
    "\n",
    "farenheit=(cel * 9/5) + 32\n",
    "print(f\"{cel} °C equivale a {farenheit} °F\")\n"
   ]
  },
  {
   "cell_type": "markdown",
   "id": "8dc272c6",
   "metadata": {},
   "source": [
    "Escribe un programa que permita al usuario jugar piedra, papel o tijeras \n",
    "contra la computadora."
   ]
  },
  {
   "cell_type": "code",
   "execution_count": null,
   "id": "7375f2fd",
   "metadata": {},
   "outputs": [
    {
     "name": "stdout",
     "output_type": "stream",
     "text": [
      "Opcion invalidaa\n",
      "Tú elegiste: piedra\n",
      "La computadora eligió: tijera\n",
      "GANASTE\n"
     ]
    }
   ],
   "source": [
    "import random\n",
    "\n",
    "mov = [\"piedra\", \"papel\", \"tijera\"]\n",
    "\n",
    "\n",
    "\n",
    "while True:\n",
    "    user=input(\"Elige una opcion (Piedra,papel,tijera)\")\n",
    "\n",
    "    computadora=random.choice(mov)\n",
    "\n",
    "    if user not in mov:\n",
    "        print(\"Opcion invalidaa\")\n",
    "        continue\n",
    "\n",
    "    print(f\"Tú elegiste: {user}\")\n",
    "    print(f\"La computadora eligió: {computadora}\")\n",
    "    \n",
    "    if user==computadora:\n",
    "        print(\"empate\")\n",
    "    \n",
    "    elif(user==\"piedra\" and computadora==\"tijera\") or (user==\"papel\" and computadora==\"piedra\") or (user==\"tijera\" and computadora==\"papel\"):\n",
    "        print(\"GANASTE\")\n",
    "        break\n",
    "    else:\n",
    "        print(\"perdiste\")\n",
    "        break\n"
   ]
  },
  {
   "cell_type": "markdown",
   "id": "0feef489",
   "metadata": {},
   "source": [
    "Escribe un programa que genere una contraseña segura de longitud \n",
    "variable (entre 8 y 16 caracteres) que incluya letras mayúsculas, \n",
    "minúsculas, números y símbolos."
   ]
  },
  {
   "cell_type": "code",
   "execution_count": null,
   "id": "c891df8d",
   "metadata": {},
   "outputs": [
    {
     "name": "stdout",
     "output_type": "stream",
     "text": [
      "La contraseña no es válida. Debe tener entre 8 y 16 caracteres e incluir mayúsculas, minúsculas, números y símbolos.\n",
      "✅ Contraseña valida\n"
     ]
    }
   ],
   "source": [
    "letras_mayus = \"ABCDEFGHIJKLMNOPQRSTUVWXYZ\"\n",
    "letras_minus = \"abcdefghijklmnopqrstuvwxyz\"\n",
    "numeros = \"0123456789\"\n",
    "simbolos = \"!@#$%&*?-_+=\"\n",
    "\n",
    "while True:\n",
    "    contra = input(\"Ingrese una contraseña: \")\n",
    "\n",
    "    if 8 <= len(contra) <= 16 and any(c in letras_mayus for c in contra) and any(c in letras_minus for c in contra) and any(c in numeros for c in contra) and any(c in simbolos for c in contra):\n",
    "        print(\"✅ Contraseña valida\")\n",
    "        break\n",
    "    else:\n",
    "        print(\"La contraseña no es válida. Debe tener entre 8 y 16 caracteres e incluir mayúsculas, minúsculas, números y símbolos.\")\n"
   ]
  },
  {
   "cell_type": "markdown",
   "id": "f29ded14",
   "metadata": {},
   "source": [
    "Escribir un programa que pida al usuario dos números y los sume. ¡Pero \n",
    "esta vez hazlo en C++! :) "
   ]
  },
  {
   "cell_type": "code",
   "execution_count": null,
   "id": "a90bef30",
   "metadata": {},
   "outputs": [],
   "source": []
  }
 ],
 "metadata": {
  "kernelspec": {
   "display_name": "Python 3",
   "language": "python",
   "name": "python3"
  },
  "language_info": {
   "codemirror_mode": {
    "name": "ipython",
    "version": 3
   },
   "file_extension": ".py",
   "mimetype": "text/x-python",
   "name": "python",
   "nbconvert_exporter": "python",
   "pygments_lexer": "ipython3",
   "version": "3.12.10"
  }
 },
 "nbformat": 4,
 "nbformat_minor": 5
}
